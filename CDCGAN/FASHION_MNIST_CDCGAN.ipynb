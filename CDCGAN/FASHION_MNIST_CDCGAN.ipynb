{
  "nbformat": 4,
  "nbformat_minor": 0,
  "metadata": {
    "colab": {
      "name": "FASHION_MNIST_CDCGAN.ipynb",
      "provenance": [],
      "collapsed_sections": [],
      "machine_shape": "hm"
    },
    "kernelspec": {
      "name": "python3",
      "display_name": "Python 3"
    },
    "accelerator": "GPU"
  },
  "cells": [
    {
      "cell_type": "markdown",
      "metadata": {
        "id": "-OjISASMcL1p",
        "colab_type": "text"
      },
      "source": [
        "# Conditional Deep Convolutional Generative Adversarial Network"
      ]
    },
    {
      "cell_type": "markdown",
      "metadata": {
        "id": "JCApHGKrVl-r",
        "colab_type": "text"
      },
      "source": [
        "If you have not gone through my DCGAN notebook, than please do so by clicking on this [Link](https://github.com/raja-git-ai/GAN/blob/master/DCGAN/FASHION_MNIST_DCGAN.ipynb)"
      ]
    },
    {
      "cell_type": "markdown",
      "metadata": {
        "id": "5saufafTcAQz",
        "colab_type": "text"
      },
      "source": [
        "### Brief about CDCGAN\n",
        "1.) CDCGAN basically refers to generating an image or a multidimensional image like array on the basis of user input or directed input.<br>\n",
        "2.) In our current implementation we can ask the generator model to generate a class of image like bag shoes, tshirt's etc by givin user input.<br>\n",
        "3.) Basically we specify a class of image and the network spits out relevent image/data.\n",
        "\n",
        "4.) where as a DCGAN spits out image of any class."
      ]
    },
    {
      "cell_type": "markdown",
      "metadata": {
        "id": "cpCiwi_kfPxG",
        "colab_type": "text"
      },
      "source": [
        "5.) CDCGAN Network architecture.\n",
        "\n",
        "<img src=\"https://3qeqpr26caki16dnhd19sv6by6v-wpengine.netdna-ssl.com/wp-content/uploads/2019/05/Example-of-a-Conditional-Generator-and-a-Conditional-Discriminator-in-a-Conditional-Generative-Adversarial-Network-1024x887.png\" width=\"500\"/><br>\n",
        "Taken from Conditional Generative Adversarial Nets, 2014.\n"
      ]
    },
    {
      "cell_type": "markdown",
      "metadata": {
        "id": "pSV8pZr_k3a3",
        "colab_type": "text"
      },
      "source": [
        "### Implementation idea\n",
        "#### Generator :- \n",
        "1.) We create a Generator which can take random noise and class of image(9 for shoe, 8 for bag etc) as input.<br>\n",
        "2.) Random noise is resized to a shape of image with multiple channel.<br>\n",
        "3.) Class of image will also be resized to shape of a image but with single channel.<br>\n",
        "\n",
        "#### Descriminator :- \n",
        "1.) We create a descriminator which can take a multichannel real image or multichannel fake image produced by generator. <br>\n",
        "2.) Class label of image and a label which specifies whether the ultichannel image is fake or real.<br>\n",
        "3.) Generator and Descriminator are trained simultaniously.<br>\n",
        "4.) Finally the generator is picked up and used to prduce veriety of images within the class provided by user."
      ]
    },
    {
      "cell_type": "code",
      "metadata": {
        "id": "mrkJZgSvdLzW",
        "colab_type": "code",
        "colab": {}
      },
      "source": [
        "# Importing neccessary libraries\n",
        "import numpy as np\n",
        "from tensorflow.keras.datasets.fashion_mnist import load_data\n",
        "from tensorflow.keras import Sequential,Model\n",
        "from tensorflow.keras.layers import Conv2D,Reshape,Conv2DTranspose,Dense,Flatten,LeakyReLU,Dropout,Embedding,Input,Concatenate\n",
        "from tensorflow.keras.optimizers import Adam\n",
        "import matplotlib.pyplot as plt"
      ],
      "execution_count": 1,
      "outputs": []
    },
    {
      "cell_type": "code",
      "metadata": {
        "id": "JWWuTpdKfXap",
        "colab_type": "code",
        "colab": {
          "base_uri": "https://localhost:8080/",
          "height": 54
        },
        "outputId": "c2a9e104-e03f-49d8-99c7-f14a23f59c7f"
      },
      "source": [
        "# Loading the data \n",
        "(X_train,y_train),(X_test,y_test) = load_data()\n",
        "X_train = np.expand_dims(X_train,axis=-1)\n",
        "X_test = np.expand_dims(X_test,axis=1)\n",
        "X_train = X_train.astype(np.float32)\n",
        "X_test = X_test.astype(np.float32)\n",
        "# Resizing image\n",
        "X_train = (X_train - 127.5)/127.5\n",
        "X_test = (X_test - 127.5)/127.5\n",
        "print(\"Shape of taining examples-> \",X_train.shape,y_train.shape)\n",
        "print(\"Shape of test examples-> \",X_test.shape,y_test.shape)"
      ],
      "execution_count": 112,
      "outputs": [
        {
          "output_type": "stream",
          "text": [
            "Shape of taining examples->  (60000, 28, 28, 1) (60000,)\n",
            "Shape of test examples->  (10000, 1, 28, 28) (10000,)\n"
          ],
          "name": "stdout"
        }
      ]
    },
    {
      "cell_type": "code",
      "metadata": {
        "id": "GMykJ1dHoV--",
        "colab_type": "code",
        "colab": {
          "base_uri": "https://localhost:8080/",
          "height": 35
        },
        "outputId": "0e039dfd-7805-4734-ec41-0f5b9fbb1275"
      },
      "source": [
        "X_train.shape"
      ],
      "execution_count": 54,
      "outputs": [
        {
          "output_type": "execute_result",
          "data": {
            "text/plain": [
              "(60000, 28, 28, 1)"
            ]
          },
          "metadata": {
            "tags": []
          },
          "execution_count": 54
        }
      ]
    },
    {
      "cell_type": "code",
      "metadata": {
        "id": "9GA7np8i99yC",
        "colab_type": "code",
        "colab": {
          "base_uri": "https://localhost:8080/",
          "height": 35
        },
        "outputId": "ea4cdc19-6242-4d2a-b737-c0e2ff571c04"
      },
      "source": [
        "X_train.min()"
      ],
      "execution_count": 59,
      "outputs": [
        {
          "output_type": "execute_result",
          "data": {
            "text/plain": [
              "-1.0"
            ]
          },
          "metadata": {
            "tags": []
          },
          "execution_count": 59
        }
      ]
    },
    {
      "cell_type": "code",
      "metadata": {
        "id": "aWBj1k9ti8-i",
        "colab_type": "code",
        "colab": {
          "base_uri": "https://localhost:8080/",
          "height": 35
        },
        "outputId": "1909b532-4d89-42db-ced6-a7ca6dd51576"
      },
      "source": [
        "# We can see that lables are presented as numbers , which going forward we will create a exact lable mapping.\n",
        "y_test[:10]"
      ],
      "execution_count": 60,
      "outputs": [
        {
          "output_type": "execute_result",
          "data": {
            "text/plain": [
              "array([9, 2, 1, 1, 6, 1, 4, 6, 5, 7], dtype=uint8)"
            ]
          },
          "metadata": {
            "tags": []
          },
          "execution_count": 60
        }
      ]
    },
    {
      "cell_type": "code",
      "metadata": {
        "id": "02KJh5JGjWb-",
        "colab_type": "code",
        "colab": {
          "base_uri": "https://localhost:8080/",
          "height": 283
        },
        "outputId": "698b42a1-61b5-4958-9d04-64604f1a0043"
      },
      "source": [
        "# Plot raw pixel data\n",
        "plt.imshow(X_train[0,:,:,0],cmap='gray_r')"
      ],
      "execution_count": 61,
      "outputs": [
        {
          "output_type": "execute_result",
          "data": {
            "text/plain": [
              "<matplotlib.image.AxesImage at 0x7f32af774c18>"
            ]
          },
          "metadata": {
            "tags": []
          },
          "execution_count": 61
        },
        {
          "output_type": "display_data",
          "data": {
            "image/png": "[encoded data removed]",
            "text/plain": [
              "<Figure size 432x288 with 1 Axes>"
            ]
          },
          "metadata": {
            "tags": [],
            "needs_background": "light"
          }
        }
      ]
    },
    {
      "cell_type": "code",
      "metadata": {
        "id": "8B3nvzs1HfpL",
        "colab_type": "code",
        "colab": {}
      },
      "source": [
        "input_shape = (28,28,1)\n",
        "num_classes = 10\n",
        "noise_points = 100\n",
        "# Define descriminator \n",
        "def get_descriminator():\n",
        "  #1. We need to define one embedding layer \n",
        "  #2. We have to resize the embedding layer to match up with the conv layer and will have to blow it up to match the conv layer sizes\n",
        "  # Preparing the Embedding Layer\n",
        "  # Plan is to add the class label as a channel in the overall image \n",
        "  # 1. Taking the input\n",
        "  input_label = Input(shape=(1,))\n",
        "  # 2. Creating a 50 dimensional embdding out of the input\n",
        "  embedding = Embedding(input_dim=num_classes,output_dim=50)(input_label)\n",
        "  # 3. Blowing up the input to a shape of 28*28\n",
        "  embedding = Dense(input_shape[0]*input_shape[1])(embedding)\n",
        "  # 4. Creating a 28*28 square matrix out of dense layer\n",
        "  embedding = Reshape((input_shape[0],input_shape[1],1))(embedding)\n",
        "\n",
        "  ########################################################3\n",
        "  # 5. Taking the image input\n",
        "  input_image = Input(shape=input_shape)\n",
        "  \n",
        "  # 6. Concatenating the input image with the class label from step 4\n",
        "  class_and_image = Concatenate()([input_image,embedding])\n",
        "\n",
        "  # Preparing the conv layer\n",
        "  convolve = Conv2D(128,kernel_size=(4,4),strides=(1,1),padding='same')(class_and_image)\n",
        "  convolve = LeakyReLU(alpha=0.2)(convolve)\n",
        "\n",
        "  convolve = Conv2D(128,kernel_size=(3,3),strides=(2,2),padding='same')(convolve)\n",
        "  convolve = LeakyReLU()(convolve)\n",
        "\n",
        "  convolve = Flatten()(convolve)\n",
        "  convolve = Dropout(0.2)(convolve)\n",
        "\n",
        "  convolve = Dense(1,activation='sigmoid')(convolve)\n",
        "  \n",
        "  model = Model([input_image,input_label],convolve)\n",
        "  model.compile(loss='binary_crossentropy',optimizer = Adam(lr=0.002),metrics=['accuracy'])\n",
        "  print(model.summary())\n",
        "  return model"
      ],
      "execution_count": 62,
      "outputs": []
    },
    {
      "cell_type": "code",
      "metadata": {
        "id": "f0XTzomvW0P5",
        "colab_type": "code",
        "colab": {
          "base_uri": "https://localhost:8080/",
          "height": 678
        },
        "outputId": "433160ee-7bf3-48cc-f8f2-6aa201ec3fe1"
      },
      "source": [
        "# Getting descriminator\n",
        "descriminator = get_descriminator()"
      ],
      "execution_count": 63,
      "outputs": [
        {
          "output_type": "stream",
          "text": [
            "Model: \"functional_25\"\n",
            "__________________________________________________________________________________________________\n",
            "Layer (type)                    Output Shape         Param #     Connected to                     \n",
            "==================================================================================================\n",
            "input_13 (InputLayer)           [(None, 1)]          0                                            \n",
            "__________________________________________________________________________________________________\n",
            "embedding_6 (Embedding)         (None, 1, 50)        500         input_13[0][0]                   \n",
            "__________________________________________________________________________________________________\n",
            "dense_12 (Dense)                (None, 1, 784)       39984       embedding_6[0][0]                \n",
            "__________________________________________________________________________________________________\n",
            "input_14 (InputLayer)           [(None, 28, 28, 1)]  0                                            \n",
            "__________________________________________________________________________________________________\n",
            "reshape_9 (Reshape)             (None, 28, 28, 1)    0           dense_12[0][0]                   \n",
            "__________________________________________________________________________________________________\n",
            "concatenate_6 (Concatenate)     (None, 28, 28, 2)    0           input_14[0][0]                   \n",
            "                                                                 reshape_9[0][0]                  \n",
            "__________________________________________________________________________________________________\n",
            "conv2d_9 (Conv2D)               (None, 28, 28, 128)  4224        concatenate_6[0][0]              \n",
            "__________________________________________________________________________________________________\n",
            "leaky_re_lu_15 (LeakyReLU)      (None, 28, 28, 128)  0           conv2d_9[0][0]                   \n",
            "__________________________________________________________________________________________________\n",
            "conv2d_10 (Conv2D)              (None, 14, 14, 128)  147584      leaky_re_lu_15[0][0]             \n",
            "__________________________________________________________________________________________________\n",
            "leaky_re_lu_16 (LeakyReLU)      (None, 14, 14, 128)  0           conv2d_10[0][0]                  \n",
            "__________________________________________________________________________________________________\n",
            "flatten_3 (Flatten)             (None, 25088)        0           leaky_re_lu_16[0][0]             \n",
            "__________________________________________________________________________________________________\n",
            "dropout_3 (Dropout)             (None, 25088)        0           flatten_3[0][0]                  \n",
            "__________________________________________________________________________________________________\n",
            "dense_13 (Dense)                (None, 1)            25089       dropout_3[0][0]                  \n",
            "==================================================================================================\n",
            "Total params: 217,381\n",
            "Trainable params: 217,381\n",
            "Non-trainable params: 0\n",
            "__________________________________________________________________________________________________\n",
            "None\n"
          ],
          "name": "stdout"
        }
      ]
    },
    {
      "cell_type": "code",
      "metadata": {
        "id": "ikbYWYS1W8Kx",
        "colab_type": "code",
        "colab": {}
      },
      "source": [
        "# define generator\n",
        "def get_gnerator():\n",
        "  # Goal is to take class label as input and add it with random noise.\n",
        "  # Further blow it up to form a square matrix representing 2 channel image \n",
        "\n",
        "  # 1. Creating embedding layer\n",
        "  input_label = Input(shape=(1,))\n",
        "  embedding = Embedding(num_classes,50)(input_label)\n",
        "  tot_nodes = 1* 7*7\n",
        "  embedding = Dense(tot_nodes)(embedding)\n",
        "  embedding = Reshape((7,7,1))(embedding)\n",
        "\n",
        "  # 2. Creating layer to ingest random noise i.e feeding the latent layer\n",
        "  latent = Input(shape=(noise_points,))\n",
        "  tot_nodes = 128*7*7\n",
        "  gen = Dense(tot_nodes)(latent)\n",
        "  gen = LeakyReLU(alpha=0.2)(gen)\n",
        "  # Reshaping the layer to be a size of 7*7*128\n",
        "  gen = Reshape((7,7,128))(gen)\n",
        "  # Merging the embedding layer representing class with noise layer\n",
        "  gen = Concatenate()([gen,embedding])\n",
        "  # Upsample to 14 * 14 \n",
        "  gen = Conv2DTranspose(filters=128,kernel_size= (5,5),strides=(2,2),padding='same')(gen)\n",
        "  gen = LeakyReLU(alpha=0.2)(gen)\n",
        "\n",
        "  # Upsample to 28*28 \n",
        "  gen = Conv2DTranspose(filters=128,kernel_size = (4,4),strides=(2,2),padding='same')(gen)\n",
        "  gen = LeakyReLU(alpha=0.2)(gen) \n",
        "  # Out layer \n",
        "  out_layer = Conv2D(1,(7,7),activation='tanh',padding='same')(gen)\n",
        "\n",
        "  # Define model \n",
        "  model = Model([latent,input_label],out_layer)\n",
        "  print(model.summary())\n",
        "  return model "
      ],
      "execution_count": 64,
      "outputs": []
    },
    {
      "cell_type": "code",
      "metadata": {
        "id": "R361-dvWNx88",
        "colab_type": "code",
        "colab": {
          "base_uri": "https://localhost:8080/",
          "height": 715
        },
        "outputId": "97725ad6-4f51-42be-facd-e8ed4830641c"
      },
      "source": [
        "# Get descriminator\n",
        "generator = get_gnerator()"
      ],
      "execution_count": 65,
      "outputs": [
        {
          "output_type": "stream",
          "text": [
            "Model: \"functional_27\"\n",
            "__________________________________________________________________________________________________\n",
            "Layer (type)                    Output Shape         Param #     Connected to                     \n",
            "==================================================================================================\n",
            "input_16 (InputLayer)           [(None, 100)]        0                                            \n",
            "__________________________________________________________________________________________________\n",
            "input_15 (InputLayer)           [(None, 1)]          0                                            \n",
            "__________________________________________________________________________________________________\n",
            "dense_15 (Dense)                (None, 6272)         633472      input_16[0][0]                   \n",
            "__________________________________________________________________________________________________\n",
            "embedding_7 (Embedding)         (None, 1, 50)        500         input_15[0][0]                   \n",
            "__________________________________________________________________________________________________\n",
            "leaky_re_lu_17 (LeakyReLU)      (None, 6272)         0           dense_15[0][0]                   \n",
            "__________________________________________________________________________________________________\n",
            "dense_14 (Dense)                (None, 1, 49)        2499        embedding_7[0][0]                \n",
            "__________________________________________________________________________________________________\n",
            "reshape_11 (Reshape)            (None, 7, 7, 128)    0           leaky_re_lu_17[0][0]             \n",
            "__________________________________________________________________________________________________\n",
            "reshape_10 (Reshape)            (None, 7, 7, 1)      0           dense_14[0][0]                   \n",
            "__________________________________________________________________________________________________\n",
            "concatenate_7 (Concatenate)     (None, 7, 7, 129)    0           reshape_11[0][0]                 \n",
            "                                                                 reshape_10[0][0]                 \n",
            "__________________________________________________________________________________________________\n",
            "conv2d_transpose_6 (Conv2DTrans (None, 14, 14, 128)  412928      concatenate_7[0][0]              \n",
            "__________________________________________________________________________________________________\n",
            "leaky_re_lu_18 (LeakyReLU)      (None, 14, 14, 128)  0           conv2d_transpose_6[0][0]         \n",
            "__________________________________________________________________________________________________\n",
            "conv2d_transpose_7 (Conv2DTrans (None, 28, 28, 128)  262272      leaky_re_lu_18[0][0]             \n",
            "__________________________________________________________________________________________________\n",
            "leaky_re_lu_19 (LeakyReLU)      (None, 28, 28, 128)  0           conv2d_transpose_7[0][0]         \n",
            "__________________________________________________________________________________________________\n",
            "conv2d_11 (Conv2D)              (None, 28, 28, 1)    6273        leaky_re_lu_19[0][0]             \n",
            "==================================================================================================\n",
            "Total params: 1,317,944\n",
            "Trainable params: 1,317,944\n",
            "Non-trainable params: 0\n",
            "__________________________________________________________________________________________________\n",
            "None\n"
          ],
          "name": "stdout"
        }
      ]
    },
    {
      "cell_type": "code",
      "metadata": {
        "id": "tQZ_VCgIYQAr",
        "colab_type": "code",
        "colab": {}
      },
      "source": [
        "# Define CDCGAN model \n",
        "def cdcgan(generator,descriminator):\n",
        "  descriminator.trainable = False\n",
        "  gen_noise,gen_label = generator.input\n",
        "  gen_output = generator.output \n",
        "  # output from descriminator\n",
        "  cdcgan_output = descriminator([gen_output,gen_label])\n",
        "  # defining model\n",
        "  cdcgan_model = Model([gen_noise,gen_label],cdcgan_output)\n",
        "  cdcgan_model.compile(loss='binary_crossentropy',optimizer=Adam(learning_rate=0.0002,beta_1=0.5))\n",
        "  print(cdcgan_model.summary())\n",
        "  return cdcgan_model"
      ],
      "execution_count": 66,
      "outputs": []
    },
    {
      "cell_type": "code",
      "metadata": {
        "id": "qIGhbR4SdTqR",
        "colab_type": "code",
        "colab": {
          "base_uri": "https://localhost:8080/",
          "height": 770
        },
        "outputId": "477e4d94-7e87-4f83-e513-b52626ec7be4"
      },
      "source": [
        "cdcgan_model = cdcgan(generator,descriminator)"
      ],
      "execution_count": 67,
      "outputs": [
        {
          "output_type": "stream",
          "text": [
            "Model: \"functional_29\"\n",
            "__________________________________________________________________________________________________\n",
            "Layer (type)                    Output Shape         Param #     Connected to                     \n",
            "==================================================================================================\n",
            "input_16 (InputLayer)           [(None, 100)]        0                                            \n",
            "__________________________________________________________________________________________________\n",
            "input_15 (InputLayer)           [(None, 1)]          0                                            \n",
            "__________________________________________________________________________________________________\n",
            "dense_15 (Dense)                (None, 6272)         633472      input_16[0][0]                   \n",
            "__________________________________________________________________________________________________\n",
            "embedding_7 (Embedding)         (None, 1, 50)        500         input_15[0][0]                   \n",
            "__________________________________________________________________________________________________\n",
            "leaky_re_lu_17 (LeakyReLU)      (None, 6272)         0           dense_15[0][0]                   \n",
            "__________________________________________________________________________________________________\n",
            "dense_14 (Dense)                (None, 1, 49)        2499        embedding_7[0][0]                \n",
            "__________________________________________________________________________________________________\n",
            "reshape_11 (Reshape)            (None, 7, 7, 128)    0           leaky_re_lu_17[0][0]             \n",
            "__________________________________________________________________________________________________\n",
            "reshape_10 (Reshape)            (None, 7, 7, 1)      0           dense_14[0][0]                   \n",
            "__________________________________________________________________________________________________\n",
            "concatenate_7 (Concatenate)     (None, 7, 7, 129)    0           reshape_11[0][0]                 \n",
            "                                                                 reshape_10[0][0]                 \n",
            "__________________________________________________________________________________________________\n",
            "conv2d_transpose_6 (Conv2DTrans (None, 14, 14, 128)  412928      concatenate_7[0][0]              \n",
            "__________________________________________________________________________________________________\n",
            "leaky_re_lu_18 (LeakyReLU)      (None, 14, 14, 128)  0           conv2d_transpose_6[0][0]         \n",
            "__________________________________________________________________________________________________\n",
            "conv2d_transpose_7 (Conv2DTrans (None, 28, 28, 128)  262272      leaky_re_lu_18[0][0]             \n",
            "__________________________________________________________________________________________________\n",
            "leaky_re_lu_19 (LeakyReLU)      (None, 28, 28, 128)  0           conv2d_transpose_7[0][0]         \n",
            "__________________________________________________________________________________________________\n",
            "conv2d_11 (Conv2D)              (None, 28, 28, 1)    6273        leaky_re_lu_19[0][0]             \n",
            "__________________________________________________________________________________________________\n",
            "functional_25 (Functional)      (None, 1)            217381      conv2d_11[0][0]                  \n",
            "                                                                 input_15[0][0]                   \n",
            "==================================================================================================\n",
            "Total params: 1,535,325\n",
            "Trainable params: 1,317,944\n",
            "Non-trainable params: 217,381\n",
            "__________________________________________________________________________________________________\n",
            "None\n"
          ],
          "name": "stdout"
        }
      ]
    },
    {
      "cell_type": "code",
      "metadata": {
        "id": "CZzyIgBidyBi",
        "colab_type": "code",
        "colab": {}
      },
      "source": [
        "# get batch of training data\n",
        "def get_actual_data(batch_size,X_train,y_train):\n",
        "  random_idx = np.random.randint(0,X_train.shape[0],batch_size)\n",
        "  X_sample = X_train[random_idx]\n",
        "  real_lables = y_train[random_idx]\n",
        "  # LAbel for the GAN which indicates these are actual images from the dataset\n",
        "  y_real = np.ones((batch_size,1))\n",
        "  return X_sample,real_lables,y_real\n",
        "\n",
        "def generate_latent_points(latent_dim,n_samples,n_classes=10):\n",
        "  # Generate random points in latent sapce\n",
        "  X_rand_latent = np.random.randn(latent_dim*n_samples)\n",
        "  X_rand_latent = X_rand_latent.reshape(n_samples,latent_dim)\n",
        "  y_rand_label = np.random.randint(0,n_classes,n_samples)\n",
        "  return X_rand_latent,y_rand_label\n",
        "\n",
        "def generate_random_fake_samples(batch_size,classes = 10):\n",
        "    X_fake,fake_lables = generate_latent_points(noise_points,batch_size)\n",
        "    # Creating images out of fake samples \n",
        "    fake_images = generator([X_fake,fake_lables])\n",
        "    y_fake  = np.zeros((batch_size,1))\n",
        "\n",
        "    return fake_images,fake_lables,y_fake "
      ],
      "execution_count": 82,
      "outputs": []
    },
    {
      "cell_type": "code",
      "metadata": {
        "id": "tyO4xiEmGklb",
        "colab_type": "code",
        "colab": {}
      },
      "source": [
        "def train(generator,descriminator,X_train,y_train,noise_points,num_epocs=100,num_batch=128):\n",
        "\n",
        "    batch_per_epocs = X_train.shape[0]//num_batch\n",
        "    half_batch = num_batch//2\n",
        "\n",
        "    for i in range(num_epocs):\n",
        "      for j in range(batch_per_epocs):\n",
        "        X_real_sample,y_pred_real_sample,y_real = get_actual_data(num_batch,X_train,y_train)\n",
        "        # Train Descriminator on real samples and update weights\n",
        "        descriminator_loss1,_ = descriminator.train_on_batch([X_real_sample,y_pred_real_sample],y_real)\n",
        "        # Get Fake data or generated Data\n",
        "        X_fake,fake_lables,y_fake = generate_random_fake_samples(num_batch)\n",
        "        # Train Descriminator on fake results \n",
        "        descriminator_loss2,_ = descriminator.train_on_batch([X_fake,fake_lables],y_fake)\n",
        "        # Generate latent points to train the CGAN\n",
        "        X_rand_latent,y_rand_label = generate_latent_points(noise_points,num_batch)\n",
        "        # We will create an array of 1 for the output label of fake samples \n",
        "        # IT will help us to calculate the GAN loss\n",
        "        y_gan = np.ones((num_batch,1))\n",
        "        gen_loss = cdcgan_model.train_on_batch([X_rand_latent,y_rand_label],y_gan)\n",
        "        # Print summary of loss per cycle \n",
        "      print(\"batch, epoch, descriminator loss 1,2 gan loss\")\n",
        "      print(i,j,descriminator_loss1,descriminator_loss2,gen_loss)\n",
        "    # Save the model after training \n",
        "    generator.save_weights(\"cdcgan_model.h5\")"
      ],
      "execution_count": 83,
      "outputs": []
    },
    {
      "cell_type": "code",
      "metadata": {
        "id": "Nl_bnXN8CKP6",
        "colab_type": "code",
        "colab": {}
      },
      "source": [
        "# Begin training \n",
        "train(generator,descriminator,X_train,y_train,noise_points,num_epocs=100,num_batch=128)"
      ],
      "execution_count": null,
      "outputs": []
    },
    {
      "cell_type": "code",
      "metadata": {
        "id": "8C_qUM8VpOC6",
        "colab_type": "code",
        "colab": {}
      },
      "source": [
        "# Load existing model \n",
        "generator.load_weights(\"cdcgan_model.h5\")"
      ],
      "execution_count": null,
      "outputs": []
    },
    {
      "cell_type": "markdown",
      "metadata": {
        "id": "i5N0MGakLp-2",
        "colab_type": "text"
      },
      "source": [
        "### Testing the model"
      ]
    },
    {
      "cell_type": "code",
      "metadata": {
        "id": "l0Sx2ipq8pMX",
        "colab_type": "code",
        "colab": {}
      },
      "source": [
        "# Generate latent/random points for 3 random inputs\n",
        "X_rand_latent,y_rand_label = generate_latent_points(noise_points,3)\n",
        "y_rand_label = np.array([9,8,7])"
      ],
      "execution_count": 105,
      "outputs": []
    },
    {
      "cell_type": "code",
      "metadata": {
        "id": "j9aWs_7cOUoT",
        "colab_type": "code",
        "colab": {}
      },
      "source": [
        "# Our object dictionary\n",
        "obj_dict = {'t-shirt':0, 'trouser':1, 'pullover':2, 'dress':3, 'coat':4, 'sandal':5,\n",
        "            'shirt':6, 'sneaker':7, 'bag':8,'ankle boot':9}"
      ],
      "execution_count": 106,
      "outputs": []
    },
    {
      "cell_type": "code",
      "metadata": {
        "id": "TBs954JKL-sD",
        "colab_type": "code",
        "colab": {}
      },
      "source": [
        "# We are producing generated images for class label \n",
        "# 1. Boot\n",
        "# 2. Bag \n",
        "# 3. Sneaker\n",
        "y_pred = generator.predict([X_rand_latent,y_rand_label])"
      ],
      "execution_count": 107,
      "outputs": []
    },
    {
      "cell_type": "code",
      "metadata": {
        "id": "-W1dn-z4MVAV",
        "colab_type": "code",
        "colab": {
          "base_uri": "https://localhost:8080/",
          "height": 283
        },
        "outputId": "16b752e3-4af7-41dc-b642-ed7c574ed27b"
      },
      "source": [
        "# So as per our key value dictionary we are have generated below image for ankle boot\n",
        "# Which referrs to key 9\n",
        "plt.imshow(y_pred[0,:,:,0],cmap='gray_r')"
      ],
      "execution_count": 108,
      "outputs": [
        {
          "output_type": "execute_result",
          "data": {
            "text/plain": [
              "<matplotlib.image.AxesImage at 0x7f316f6b0828>"
            ]
          },
          "metadata": {
            "tags": []
          },
          "execution_count": 108
        },
        {
          "output_type": "display_data",
          "data": {
            "image/png": "[encoded data removed]",
            "text/plain": [
              "<Figure size 432x288 with 1 Axes>"
            ]
          },
          "metadata": {
            "tags": [],
            "needs_background": "light"
          }
        }
      ]
    },
    {
      "cell_type": "code",
      "metadata": {
        "id": "CacXW0qqMYNX",
        "colab_type": "code",
        "colab": {
          "base_uri": "https://localhost:8080/",
          "height": 283
        },
        "outputId": "3cccc19a-5b84-4ec5-dc1c-513e230959d3"
      },
      "source": [
        "# So as per our key value dictionary we are have generated below image for a bag\n",
        "# Which referrs to key 8\n",
        "plt.imshow(y_pred[1,:,:,0],cmap='gray_r')"
      ],
      "execution_count": 109,
      "outputs": [
        {
          "output_type": "execute_result",
          "data": {
            "text/plain": [
              "<matplotlib.image.AxesImage at 0x7f316f718470>"
            ]
          },
          "metadata": {
            "tags": []
          },
          "execution_count": 109
        },
        {
          "output_type": "display_data",
          "data": {
            "image/png": "[encoded data removed]",
            "text/plain": [
              "<Figure size 432x288 with 1 Axes>"
            ]
          },
          "metadata": {
            "tags": [],
            "needs_background": "light"
          }
        }
      ]
    },
    {
      "cell_type": "code",
      "metadata": {
        "id": "K9xTkNI5PfJh",
        "colab_type": "code",
        "colab": {
          "base_uri": "https://localhost:8080/",
          "height": 283
        },
        "outputId": "14bbd53f-9f43-43eb-b5ef-8e04c6d1d14c"
      },
      "source": [
        "# So as per our key value dictionary we are have generated below image for a sneaker or close to sneaker\n",
        "# Which referrs to key 7\n",
        "plt.imshow(y_pred[2,:,:,0],cmap='gray_r')"
      ],
      "execution_count": 110,
      "outputs": [
        {
          "output_type": "execute_result",
          "data": {
            "text/plain": [
              "<matplotlib.image.AxesImage at 0x7f31735fa080>"
            ]
          },
          "metadata": {
            "tags": []
          },
          "execution_count": 110
        },
        {
          "output_type": "display_data",
          "data": {
            "image/png": "[encoded data removed]",
            "text/plain": [
              "<Figure size 432x288 with 1 Axes>"
            ]
          },
          "metadata": {
            "tags": [],
            "needs_background": "light"
          }
        }
      ]
    },
    {
      "cell_type": "code",
      "metadata": {
        "id": "oKw4U9a3QMxE",
        "colab_type": "code",
        "colab": {}
      },
      "source": [
        ""
      ],
      "execution_count": null,
      "outputs": []
    }
  ]
}