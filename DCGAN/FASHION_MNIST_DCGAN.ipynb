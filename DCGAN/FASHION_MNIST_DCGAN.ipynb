{
  "nbformat": 4,
  "nbformat_minor": 0,
  "metadata": {
    "colab": {
      "name": "MNIST_DCGAN.ipynb",
      "provenance": [],
      "collapsed_sections": [],
      "machine_shape": "hm"
    },
    "kernelspec": {
      "name": "python3",
      "display_name": "Python 3"
    },
    "accelerator": "GPU"
  },
  "cells": [
    {
      "cell_type": "markdown",
      "metadata": {
        "id": "lRgDMiLp9OT6",
        "colab_type": "text"
      },
      "source": [
        "# Deep Convolutional Generative Adversarial Network"
      ]
    },
    {
      "cell_type": "markdown",
      "metadata": {
        "id": "Twm2SqKNfzP5",
        "colab_type": "text"
      },
      "source": [
        "In this notebook we will try to apply GAN principle on MNIST fashion dataset <br> 1.) In GAN two models are trained simultaniously \n",
        "<br>     a.) Generator :- It's job is to generate meaningful data out of random noise\n",
        "<br>     b.) Discriminator:- It's job is to discriminate fake outputs generated from the generator from the training data\n",
        "\n",
        "<br> Over time both models are rivals each other i.e generator tries to fool the discriminator and desriminator tries not to get fooled.\n",
        "<br> The training process happens till the generator is good enough to generate real like output and the descriminator fails to discriminate real from fake.\n",
        "\n",
        "## GAN vs DCGAN\n",
        "GAN(Generative Adversarial Network) - It uses vanila neural networks i.e dense layers to cunstruct Generator and Descriminator.\n",
        "<br> DCGAN(Deep Convolutional Generative Adversarial Network) - It uses Convolution neural network to cunstruct Generator and Descriminator.\n",
        "\n",
        "<img src=\"https://gluon.mxnet.io/_images/dcgan.png\"/>\n",
        "\n",
        "  "
      ]
    },
    {
      "cell_type": "code",
      "metadata": {
        "id": "Mko6D-m49ILd",
        "colab_type": "code",
        "colab": {}
      },
      "source": [
        "# Importing neccessary libraries\n",
        "import tensorflow as tf\n",
        "from tensorflow.keras.datasets import mnist,fashion_mnist\n",
        "\n",
        "import time\n",
        "import glob \n",
        "import imageio\n",
        "import matplotlib.pyplot as plt\n",
        "import numpy as np\n",
        "import os\n",
        "import PIL\n",
        "from tensorflow.train import Checkpoint\n",
        "from tensorflow.keras.losses import BinaryCrossentropy\n",
        "from tensorflow.keras.optimizers import Adam,SGD\n",
        "from tensorflow.keras import Sequential\n",
        "from tensorflow.keras.layers import BatchNormalization,Conv2D,Conv2DTranspose,LeakyReLU,ReLU,Reshape,Dropout,Flatten,Dense\n",
        "from IPython import display"
      ],
      "execution_count": 1,
      "outputs": []
    },
    {
      "cell_type": "code",
      "metadata": {
        "id": "r0bHpHGnfc2_",
        "colab_type": "code",
        "colab": {}
      },
      "source": [
        "# Normalizer diviser\n",
        "norm_divisor = 127.5"
      ],
      "execution_count": 2,
      "outputs": []
    },
    {
      "cell_type": "code",
      "metadata": {
        "id": "8yi4344Nd2yD",
        "colab_type": "code",
        "colab": {}
      },
      "source": [
        "# Creating a generate and save images which we will use later in \n",
        "def generate_and_save_img(model,epoch,test_ip):\n",
        "  y_pred = model(test_ip,training=False)\n",
        "  fig = plt.figure(figsize=(4,4))\n",
        "\n",
        "  for i in range(y_pred.shape[0]):\n",
        "    plt.subplot(4,4,i+1)\n",
        "    # multiply and add with norm divisor will bring the pixel intensity back to the initial scale\n",
        "    plt.imshow(y_pred[i,:,:,0]*norm_divisor+norm_divisor,cmap='gray')\n",
        "    plt.axis(\"off\")\n",
        "\n",
        "  plt.savefig(\"img_at_epoch{:d}.png\".format(epoch))\n",
        "  plt.show()"
      ],
      "execution_count": 3,
      "outputs": []
    },
    {
      "cell_type": "markdown",
      "metadata": {
        "id": "dUdEvvm455i6",
        "colab_type": "text"
      },
      "source": [
        "###Data Prepration"
      ]
    },
    {
      "cell_type": "code",
      "metadata": {
        "id": "TMOEGurb4TKf",
        "colab_type": "code",
        "colab": {
          "base_uri": "https://localhost:8080/",
          "height": 164
        },
        "outputId": "2fe3499b-c911-4bd6-835e-0a1f82184db3"
      },
      "source": [
        "# Loading data\n",
        "(X_train_img,y_train_label),(_,_) = fashion_mnist.load_data()\n",
        "# Reshaping the data accordingly\n",
        "X_train_img =  X_train_img.reshape(X_train_img.shape[0],X_train_img.shape[1],X_train_img.shape[2],1)\n",
        "# As we know that max value of pixel intencity is 255 but we want to bring the scaling b/w -1 to 1 \n",
        "# So we divide by 127.5\n",
        "X_train_img = (X_train_img-norm_divisor)/norm_divisor"
      ],
      "execution_count": 4,
      "outputs": [
        {
          "output_type": "stream",
          "text": [
            "Downloading data from https://storage.googleapis.com/tensorflow/tf-keras-datasets/train-labels-idx1-ubyte.gz\n",
            "32768/29515 [=================================] - 0s 0us/step\n",
            "Downloading data from https://storage.googleapis.com/tensorflow/tf-keras-datasets/train-images-idx3-ubyte.gz\n",
            "26427392/26421880 [==============================] - 2s 0us/step\n",
            "Downloading data from https://storage.googleapis.com/tensorflow/tf-keras-datasets/t10k-labels-idx1-ubyte.gz\n",
            "8192/5148 [===============================================] - 0s 0us/step\n",
            "Downloading data from https://storage.googleapis.com/tensorflow/tf-keras-datasets/t10k-images-idx3-ubyte.gz\n",
            "4423680/4422102 [==============================] - 0s 0us/step\n"
          ],
          "name": "stdout"
        }
      ]
    },
    {
      "cell_type": "code",
      "metadata": {
        "id": "Lf8mcjl_1sor",
        "colab_type": "code",
        "colab": {
          "base_uri": "https://localhost:8080/",
          "height": 283
        },
        "outputId": "ab4308cc-64f1-41f9-cb81-201665adf751"
      },
      "source": [
        "plt.imshow(X_train_img[0,:,:,0],cmap='gray')"
      ],
      "execution_count": 5,
      "outputs": [
        {
          "output_type": "execute_result",
          "data": {
            "text/plain": [
              "<matplotlib.image.AxesImage at 0x7f0bda319358>"
            ]
          },
          "metadata": {
            "tags": []
          },
          "execution_count": 5
        },
        {
          "output_type": "display_data",
          "data": {
            "image/png": "[encoded data removed]",
            "text/plain": [
              "<Figure size 432x288 with 1 Axes>"
            ]
          },
          "metadata": {
            "tags": [],
            "needs_background": "light"
          }
        }
      ]
    },
    {
      "cell_type": "code",
      "metadata": {
        "id": "Zy3E8VfH6FMi",
        "colab_type": "code",
        "colab": {}
      },
      "source": [
        "buffer_size = X_train_img.shape[0]\n",
        "batch_size = 256"
      ],
      "execution_count": 6,
      "outputs": []
    },
    {
      "cell_type": "code",
      "metadata": {
        "id": "JWhSCBEC6MUe",
        "colab_type": "code",
        "colab": {}
      },
      "source": [
        "# Batch and shuffle the data \n",
        "X_train_img = tf.data.Dataset.from_tensor_slices(X_train_img).shuffle(buffer_size).batch(batch_size)"
      ],
      "execution_count": 7,
      "outputs": []
    },
    {
      "cell_type": "markdown",
      "metadata": {
        "id": "yQ1JzWcY-fJW",
        "colab_type": "text"
      },
      "source": [
        "## Model Creation "
      ]
    },
    {
      "cell_type": "code",
      "metadata": {
        "id": "zgiXKM4q-TqZ",
        "colab_type": "code",
        "colab": {}
      },
      "source": [
        "### Create Generator \n",
        "def get_generator():\n",
        "  n_dim = 7\n",
        "  model = Sequential()\n",
        "  model.add(Dense(n_dim*n_dim*batch_size,use_bias=False,input_shape=(100,)))\n",
        "  model.add(BatchNormalization())\n",
        "  model.add(LeakyReLU())\n",
        "\n",
        "  model.add(Reshape((n_dim,n_dim,batch_size)))\n",
        "  # Here Conv2DTranspose is used to upsample the desne data into a 2D matrix space so that is projects like an image\n",
        "  model.add(Conv2DTranspose(128,kernel_size=(5,5),strides=(1,1),padding='same',use_bias=False))\n",
        "  # model output shape should be 7*7*128\n",
        "  model.add(BatchNormalization())\n",
        "  model.add(LeakyReLU())\n",
        "\n",
        "  model.add(Conv2DTranspose(64,kernel_size=(5,5),strides=(2,2),padding='same',use_bias=False))\n",
        "  # model output shape should be 14*14*64\n",
        "  model.add(BatchNormalization())\n",
        "  model.add(LeakyReLU())\n",
        "\n",
        "  model.add(Conv2DTranspose(1,kernel_size=(5,5),strides=(2,2),padding='same',use_bias=False,activation='tanh'))\n",
        "  # output shape should be 28*28*1\n",
        "  return model"
      ],
      "execution_count": 8,
      "outputs": []
    },
    {
      "cell_type": "code",
      "metadata": {
        "id": "jugO3_5DEhDD",
        "colab_type": "code",
        "colab": {
          "base_uri": "https://localhost:8080/",
          "height": 283
        },
        "outputId": "71a9ba5a-a1bc-4977-bbd4-4badfba25118"
      },
      "source": [
        "# Let's Examin a random image generated by the generator \n",
        "# As this is an untrained network so you can se a compleately random image\n",
        "generator = get_generator()\n",
        "noise = tf.random.normal([1,100])\n",
        "generated_img  = generator(noise,training=False)\n",
        "plt.imshow(generated_img[0,:,:,0],cmap='gray')"
      ],
      "execution_count": 9,
      "outputs": [
        {
          "output_type": "execute_result",
          "data": {
            "text/plain": [
              "<matplotlib.image.AxesImage at 0x7f0bdac4e160>"
            ]
          },
          "metadata": {
            "tags": []
          },
          "execution_count": 9
        },
        {
          "output_type": "display_data",
          "data": {
            "image/png": "[encoded data removed]",
            "text/plain": [
              "<Figure size 432x288 with 1 Axes>"
            ]
          },
          "metadata": {
            "tags": [],
            "needs_background": "light"
          }
        }
      ]
    },
    {
      "cell_type": "code",
      "metadata": {
        "id": "Mp0ouz8WFYY7",
        "colab_type": "code",
        "colab": {}
      },
      "source": [
        "# Getting the Descriminator \n",
        "def get_descriminator():\n",
        "  model = Sequential()\n",
        "  model.add(Conv2D(64,kernel_size=(5,5),strides=(2,2),padding='same',input_shape=(28,28,1)))\n",
        "  model.add(LeakyReLU())\n",
        "  model.add(Dropout(0.2))\n",
        "\n",
        "  model.add(Conv2D(128,kernel_size=(5,5),strides=(2,2),padding='same'))\n",
        "  model.add(LeakyReLU())\n",
        "  model.add(Dropout(0.2))\n",
        "\n",
        "  model.add(Flatten())\n",
        "  model.add(Dense(1))\n",
        "  return model"
      ],
      "execution_count": 10,
      "outputs": []
    },
    {
      "cell_type": "code",
      "metadata": {
        "id": "UvjlQvXWJFTq",
        "colab_type": "code",
        "colab": {
          "base_uri": "https://localhost:8080/",
          "height": 35
        },
        "outputId": "7934b34a-96f6-4d9a-8a68-3dcd19df6505"
      },
      "source": [
        "# Trying to classify randomly generated image with untrained descriminator\n",
        "descriminator = get_descriminator()\n",
        "print(descriminator(generated_img))"
      ],
      "execution_count": 11,
      "outputs": [
        {
          "output_type": "stream",
          "text": [
            "tf.Tensor([[-0.00215101]], shape=(1, 1), dtype=float32)\n"
          ],
          "name": "stdout"
        }
      ]
    },
    {
      "cell_type": "code",
      "metadata": {
        "id": "kvZ8GDACJOsY",
        "colab_type": "code",
        "colab": {}
      },
      "source": [
        "# Defining cross entropy loss however we will experiment with other loss functions too\n",
        "binary_crossentropy = BinaryCrossentropy(from_logits=True)"
      ],
      "execution_count": 12,
      "outputs": []
    },
    {
      "cell_type": "markdown",
      "metadata": {
        "id": "lKSZ2Q33K4V0",
        "colab_type": "text"
      },
      "source": [
        "#### Defining descriminator loss\n",
        "<br>1.)The goal of descriminator loss is to enable us in terms of judgeing, how the descriminator is able to distinguish real images from fake .\n",
        "<br>2.)It compares the descriminator's prediction on real image as 1 .\n",
        "<br>3.)It compares the descriminator's prediction on fake image's as 0."
      ]
    },
    {
      "cell_type": "code",
      "metadata": {
        "id": "Z4lgpE0HK0N5",
        "colab_type": "code",
        "colab": {}
      },
      "source": [
        "# Get generator \n",
        "def get_descrimination_loss(y_actual,y_generated):\n",
        "  act_loss = binary_crossentropy(y_true=tf.ones_like(y_actual),y_pred=y_actual)\n",
        "  generated_loss = binary_crossentropy(y_true=tf.zeros_like(y_generated),y_pred=y_generated)\n",
        "  return act_loss + generated_loss"
      ],
      "execution_count": 13,
      "outputs": []
    },
    {
      "cell_type": "markdown",
      "metadata": {
        "id": "9hVcbVzpN4Ih",
        "colab_type": "text"
      },
      "source": [
        "#### Defining generator loss\n",
        "<br>1.) The generator loss quantifies how efficiently it is goin to trick the descriminator.\n",
        "<br>2.) It generator is efficient enough than the descriminator will classify fake image as 1."
      ]
    },
    {
      "cell_type": "code",
      "metadata": {
        "id": "Bp9zYE6kMda5",
        "colab_type": "code",
        "colab": {}
      },
      "source": [
        "def get_generator_loss(y_generated):\n",
        "  return binary_crossentropy(tf.ones_like(y_generated),y_generated)"
      ],
      "execution_count": 14,
      "outputs": []
    },
    {
      "cell_type": "code",
      "metadata": {
        "id": "NF3cy9p7Quvt",
        "colab_type": "code",
        "colab": {}
      },
      "source": [
        "# Let's consider ADAM as optimizer \n",
        "generator_optimizer = Adam(learning_rate=1e-4)\n",
        "descriminator_optimizer = Adam(learning_rate=1e-4)"
      ],
      "execution_count": 15,
      "outputs": []
    },
    {
      "cell_type": "code",
      "metadata": {
        "id": "bYWqOsEISC7y",
        "colab_type": "code",
        "colab": {}
      },
      "source": [
        "# Creating a checkpoint \n",
        "checkpoint_dir = \"./chkpt/train_chkpoints\"\n",
        "checkpoint = Checkpoint(generator_optimizer=generator_optimizer,\n",
        "                        descriminator_optimizer = descriminator_optimizer,\n",
        "                        generator = generator,\n",
        "                        descriminator = descriminator)"
      ],
      "execution_count": 16,
      "outputs": []
    },
    {
      "cell_type": "markdown",
      "metadata": {
        "id": "WUH8zqhlUeMq",
        "colab_type": "text"
      },
      "source": [
        "### Defining training functions\n",
        "<br> 1.) Training begins with generator receiving a random seed with which it will produce an image.\n",
        "<br> 2.) By generated image which is ingested by descriminator.\n",
        "<br> 3.) The descriminator than classifies the generated image with actual image from the training set."
      ]
    },
    {
      "cell_type": "code",
      "metadata": {
        "id": "q5h7tIWrUJd6",
        "colab_type": "code",
        "colab": {}
      },
      "source": [
        "epocs = 100\n",
        "noise_dim = 100\n",
        "num_examples_to_generate = 16\n",
        "seed = tf.random.normal([num_examples_to_generate,noise_dim])"
      ],
      "execution_count": 17,
      "outputs": []
    },
    {
      "cell_type": "code",
      "metadata": {
        "id": "XMs43PyxUYax",
        "colab_type": "code",
        "colab": {}
      },
      "source": [
        "# Defining training step\n",
        "# here tf.function will enable the function to pre compile and let us use it later as a lazy evaluation\n",
        "@tf.function\n",
        "def a_train_step(images):\n",
        "  noise = tf.random.normal((batch_size,noise_dim))\n",
        "\n",
        "  with tf.GradientTape() as g_tape,tf.GradientTape() as d_tape:\n",
        "    generated_imgs = generator(noise,training=True)\n",
        "    # Getting prediction on actual images\n",
        "    y_act = descriminator(images,training=True)\n",
        "    # Getting prediction on fake images\n",
        "    y_fake = descriminator(generated_imgs,training=True)\n",
        "    # Getting generator loss\n",
        "    g_loss = get_generator_loss(y_fake)\n",
        "    # Getting actual vs fake loss\n",
        "    d_loss = get_descrimination_loss(y_act,y_fake)\n",
        "    generator_gradient = g_tape.gradient(g_loss,generator.trainable_variables)\n",
        "    descriminator_gradient = d_tape.gradient(d_loss,descriminator.trainable_variables)\n",
        "    # Applying gradient received across all layers of Neural netwok\n",
        "    generator_optimizer.apply_gradients(zip(generator_gradient,generator.trainable_variables))\n",
        "    descriminator_optimizer.apply_gradients(zip(descriminator_gradient,descriminator.trainable_variables))"
      ],
      "execution_count": 18,
      "outputs": []
    },
    {
      "cell_type": "code",
      "metadata": {
        "id": "mt69t7xLbN2X",
        "colab_type": "code",
        "colab": {}
      },
      "source": [
        "def train(dataset,epocs):\n",
        "  for epoc in range(epocs):\n",
        "    s = time.time()\n",
        "    for img_batch in dataset:\n",
        "      a_train_step(img_batch)\n",
        "\n",
        "      # Save model every 20 epocs\n",
        "      if((epoc+1)%20 == 0):\n",
        "        checkpoint.save(file_prefix=checkpoint_dir)\n",
        "\n",
        "    print(\"Time taken for epoch {} is {}\".format(epoc+1,time.time()-s))\n",
        "    # for producing GIF \n",
        "    display.clear_output(wait=True)\n",
        "    generate_and_save_img(generator,epoc+1,seed)\n",
        "\n",
        "         "
      ],
      "execution_count": 19,
      "outputs": []
    },
    {
      "cell_type": "markdown",
      "metadata": {
        "id": "oWMNf1c-k8y6",
        "colab_type": "text"
      },
      "source": [
        "### Training the model"
      ]
    },
    {
      "cell_type": "code",
      "metadata": {
        "id": "RyhVDgaugP2S",
        "colab_type": "code",
        "colab": {
          "base_uri": "https://localhost:8080/",
          "height": 248
        },
        "outputId": "e1dd12a0-f2dd-42ae-d0b3-519aeb585f19"
      },
      "source": [
        "train(X_train_img,epocs)"
      ],
      "execution_count": 20,
      "outputs": [
        {
          "output_type": "display_data",
          "data": {
            "image/png": "[encoded data removed]",
            "text/plain": [
              "<Figure size 288x288 with 16 Axes>"
            ]
          },
          "metadata": {
            "tags": [],
            "needs_background": "light"
          }
        }
      ]
    },
    {
      "cell_type": "markdown",
      "metadata": {
        "id": "QokbVnLZ5vKU",
        "colab_type": "text"
      },
      "source": [
        "###Sample prediction"
      ]
    },
    {
      "cell_type": "markdown",
      "metadata": {
        "id": "xn91jyDuIRfy",
        "colab_type": "text"
      },
      "source": [
        "As you can see below our DCGAN is able to generate shoe image out of some random input.\n",
        "This is what generrator models do, they generate relevent data by being fed some random numbers."
      ]
    },
    {
      "cell_type": "code",
      "metadata": {
        "id": "Bxkv-_t4gRyA",
        "colab_type": "code",
        "colab": {
          "base_uri": "https://localhost:8080/",
          "height": 177
        },
        "outputId": "50489129-8b07-4099-96d4-6f629df5ff7e"
      },
      "source": [
        "# Generate an number\n",
        "noise = tf.random.normal([1,100])\n",
        "pred_num = (generator(noise)*norm_divisor)+norm_divisor\n",
        "plt.figure(figsize=(2,2))\n",
        "plt.imshow(pred_num[0,:,:,0],cmap='gray')"
      ],
      "execution_count": 35,
      "outputs": [
        {
          "output_type": "execute_result",
          "data": {
            "text/plain": [
              "<matplotlib.image.AxesImage at 0x7f0b64b7cf28>"
            ]
          },
          "metadata": {
            "tags": []
          },
          "execution_count": 35
        },
        {
          "output_type": "display_data",
          "data": {
            "image/png": "[encoded data removed]",
            "text/plain": [
              "<Figure size 144x144 with 1 Axes>"
            ]
          },
          "metadata": {
            "tags": [],
            "needs_background": "light"
          }
        }
      ]
    },
    {
      "cell_type": "code",
      "metadata": {
        "id": "oBl6e2y2uVmO",
        "colab_type": "code",
        "colab": {}
      },
      "source": [
        ""
      ],
      "execution_count": 27,
      "outputs": []
    }
  ]
}